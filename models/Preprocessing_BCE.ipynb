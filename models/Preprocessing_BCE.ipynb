{
 "cells": [
  {
   "cell_type": "code",
   "execution_count": 1,
   "id": "240381a2",
   "metadata": {},
   "outputs": [],
   "source": [
    "import uproot\n",
    "import numpy as np\n",
    "import matplotlib.pyplot as plt\n",
    "import awkward as ak\n",
    "import pickle\n",
    "\n",
    "import torch\n",
    "import torch.nn.functional as F"
   ]
  },
  {
   "cell_type": "code",
   "execution_count": 2,
   "id": "0ae2af3f",
   "metadata": {},
   "outputs": [],
   "source": [
    "with uproot.open(\"../pythia/output/dataset_diHiggs_mu60_NumEvents10k_MinJetpT25.root:fastjet\") as f:\n",
    "    jet_pt = f[\"jet_pt\"].array()\n",
    "    jet_eta = f[\"jet_eta\"].array()\n",
    "    jet_phi = f[\"jet_phi\"].array()\n",
    "    jet_corrJVF = f[\"jet_corrJVF\"].array()\n",
    "    jet_RpT = f[\"jet_RpT\"].array()\n",
    "    jet_m = f[\"jet_m\"].array()\n",
    "    trk_pt = f[\"trk_pT\"].array()\n",
    "    trk_eta = f[\"trk_eta\"].array()\n",
    "    trk_phi = f[\"trk_phi\"].array()\n",
    "    trk_q = f[\"trk_q\"].array()\n",
    "    trk_d0 = f[\"trk_d0\"].array()\n",
    "    trk_z0 = f[\"trk_z0\"].array()\n",
    "    trk_label = f[\"trk_label\"].array()\n",
    "    jet_trk_IDX = f[\"jet_track_index\"].array()\n",
    "    jet_pufr_truth = f[\"jet_pufr_truth\"].array()"
   ]
  },
  {
   "cell_type": "code",
   "execution_count": 3,
   "id": "87f8054c",
   "metadata": {},
   "outputs": [
    {
     "name": "stdout",
     "output_type": "stream",
     "text": [
      "Processing:  10000  /  10000\n",
      "Num Events:  10000\n",
      "Num Jets in first event:  109\n",
      "Num Tracks in first event first jet:  140\n",
      "Num Tracks features:  7\n",
      "CPU times: user 6min 24s, sys: 2.93 s, total: 6min 27s\n",
      "Wall time: 6min 26s\n"
     ]
    }
   ],
   "source": [
    "%%time\n",
    "num_events = len(jet_pt)\n",
    "trk_feats = []\n",
    "for event in range(num_events):\n",
    "    if event%5==0:\n",
    "        print(\"Processing: \", event, \" / \", num_events, end=\"\\r\")\n",
    "    idx_list = list(jet_trk_IDX[event])\n",
    "    idx_list.append(len(trk_pt[event]))\n",
    "    \n",
    "    jet_trk_feats = []\n",
    "    for i in range(len(idx_list)-1):\n",
    "        start_idx = idx_list[i]\n",
    "        end_idx = idx_list[i+1]\n",
    "        trk_pt_tmp = np.array(trk_pt[event][start_idx:end_idx])\n",
    "        trk_eta_tmp = np.array(trk_eta[event][start_idx:end_idx])\n",
    "        trk_phi_tmp = np.array(trk_phi[event][start_idx:end_idx])\n",
    "        trk_q_tmp = np.array(trk_q[event][start_idx:end_idx])\n",
    "        trk_d0_tmp = np.array(trk_d0[event][start_idx:end_idx])\n",
    "        trk_z0_tmp = np.array(trk_z0[event][start_idx:end_idx])\n",
    "        trk_label_tmp = np.array(trk_label[event][start_idx:end_idx])\n",
    "\n",
    "        feats = [trk_pt_tmp, trk_eta_tmp, trk_phi_tmp, trk_q_tmp,\n",
    "                trk_d0_tmp, trk_z0_tmp, trk_label_tmp]\n",
    "        feats = np.stack(feats, axis=-1)\n",
    "        jet_trk_feats.append(feats)\n",
    "    \n",
    "    trk_feats.append(jet_trk_feats)\n",
    "    \n",
    "trk_feats = ak.Array(trk_feats)\n",
    "\n",
    "print(\"Processing: \", num_events, \" / \", num_events)\n",
    "print(\"Num Events: \", len(trk_feats))\n",
    "print(\"Num Jets in first event: \", len(trk_feats[0]))\n",
    "print(\"Num Tracks in first event first jet: \", len(trk_feats[0][0]))\n",
    "print(\"Num Tracks features: \", len(trk_feats[0][0][0]))"
   ]
  },
  {
   "cell_type": "code",
   "execution_count": 4,
   "id": "aafcd496",
   "metadata": {},
   "outputs": [
    {
     "name": "stdout",
     "output_type": "stream",
     "text": [
      "Num Events:  10000\n",
      "Num Jets in first event:  109\n",
      "Num Jet Features:  7\n",
      "CPU times: user 17.1 s, sys: 63.2 ms, total: 17.2 s\n",
      "Wall time: 17.1 s\n"
     ]
    }
   ],
   "source": [
    "%%time\n",
    "num_events = len(jet_pt)\n",
    "jet_feats = []\n",
    "for event in range(num_events):\n",
    "    jet_corrJVF_tmp = np.array(jet_corrJVF[event])\n",
    "    jet_RpT_tmp = np.array(jet_RpT[event])\n",
    "    jet_pt_tmp = np.array(jet_pt[event])\n",
    "    jet_eta_tmp = np.array(jet_eta[event])\n",
    "    jet_phi_tmp = np.array(jet_phi[event])\n",
    "    jet_m_tmp = np.array(jet_m[event])\n",
    "    jet_pufr_truth_tmp = np.array(jet_pufr_truth[event])\n",
    "\n",
    "    feats = [jet_pt_tmp, jet_eta_tmp, jet_phi_tmp, jet_m_tmp, jet_corrJVF_tmp, jet_RpT_tmp, jet_pufr_truth_tmp]\n",
    "    feats = np.stack(feats, axis=-1)\n",
    "    \n",
    "    jet_feats.append(feats)\n",
    "    \n",
    "jet_feats = ak.Array(jet_feats)\n",
    "\n",
    "print(\"Num Events: \", len(jet_feats))\n",
    "print(\"Num Jets in first event: \", len(jet_feats[0]))\n",
    "print(\"Num Jet Features: \", len(jet_feats[0][0]))"
   ]
  },
  {
   "cell_type": "code",
   "execution_count": 5,
   "id": "5627070d",
   "metadata": {},
   "outputs": [
    {
     "name": "stdout",
     "output_type": "stream",
     "text": [
      "Jet Shape:\t 10000 * var * var * float64\n",
      "Trk_Jet  Shape:\t 10000 * var * var * var * float64\n",
      "Trk_All Shape:\t 10000 * var * var * float64\n"
     ]
    }
   ],
   "source": [
    "jet_mask = abs(jet_feats[:,:,1])<4\n",
    "selected_jets = jet_feats[jet_mask]\n",
    "selected_tracks = trk_feats[jet_mask]\n",
    "\n",
    "trk_q_cut = selected_tracks[:,:,:,3]!=0          # Skip neutral particles\n",
    "trk_eta_cut = abs(selected_tracks[:,:,:,1])<4    # Skip forward region\n",
    "trk_pt_cut = selected_tracks[:,:,:,0]>0.4        # 400MeV Cut\n",
    "\n",
    "mask = trk_q_cut & trk_eta_cut & trk_pt_cut\n",
    "\n",
    "refined_tracks = selected_tracks[mask]\n",
    "\n",
    "all_tracks = ak.flatten(refined_tracks, axis=2)\n",
    "\n",
    "print(\"Jet Shape:\\t\", selected_jets.type)\n",
    "print(\"Trk_Jet  Shape:\\t\", refined_tracks.type)\n",
    "print(\"Trk_All Shape:\\t\", all_tracks.type)"
   ]
  },
  {
   "cell_type": "code",
   "execution_count": 6,
   "id": "ca3e8529",
   "metadata": {},
   "outputs": [
    {
     "name": "stdout",
     "output_type": "stream",
     "text": [
      "Processing:  10000  /  10000\n"
     ]
    }
   ],
   "source": [
    "# Generate List of torch tensors on event by event basis\n",
    "# Pad number of tracks per jet \n",
    "\n",
    "num_events = len(selected_jets)\n",
    "\n",
    "Event_Data = []\n",
    "Event_Labels = []\n",
    "\n",
    "for event in range(num_events):\n",
    "    if event%5==0:\n",
    "        print(\"Processing: \", event, \" / \", num_events, end=\"\\r\")\n",
    "    jets = torch.Tensor(selected_jets[event,:,:])\n",
    "    \n",
    "    num_trks = ak.num(refined_tracks[event], axis=1)\n",
    "    max_num_trks = ak.max(num_trks)\n",
    "\n",
    "    trk_list = []\n",
    "    num_jets = len(selected_jets[event])\n",
    "    for jet in range(num_jets):\n",
    "        tracks = torch.Tensor(refined_tracks[event][jet,:])\n",
    "        pad = (0,0,0,max_num_trks-len(tracks))\n",
    "        tracks = F.pad(tracks,pad)\n",
    "        trk_list.append(torch.unsqueeze(tracks,dim=0))\n",
    "    tracks = torch.cat(trk_list,dim=0)\n",
    "    \n",
    "    # Append all data but don't include label 0:-1!\n",
    "    flat_tracks = torch.Tensor(all_tracks[event][:,0:-1])\n",
    "    Event_Data.append((jets[:,0:-1],tracks[:,:,0:-1],flat_tracks))\n",
    "    #Event_Labels.append((jets[:,-1].reshape(-1,1),tracks[:,:,-1].reshape(-1,1)))\n",
    "    Event_Labels.append(jets[:,-1].reshape(-1,1))\n",
    "\n",
    "print(\"Processing: \", num_events, \" / \", num_events)"
   ]
  },
  {
   "cell_type": "code",
   "execution_count": 7,
   "id": "c85fca2f",
   "metadata": {},
   "outputs": [
    {
     "name": "stdout",
     "output_type": "stream",
     "text": [
      "Processing:  10000  /  10000\n",
      "Training Events:  7000\n",
      "Validation Events:  500\n",
      "Testing Events:  2500\n"
     ]
    }
   ],
   "source": [
    "train_split = int(0.7*num_events)  # 70% train\n",
    "test_split = int(0.75*num_events)  #  5% val + 25% test\n",
    "\n",
    "Event_List = list(zip(Event_Data, Event_Labels))\n",
    "\n",
    "Events_training = Event_List[0:train_split]\n",
    "Events_validation = Event_List[train_split:test_split]\n",
    "Events_testing = Event_List[test_split:]\n",
    "\n",
    "print(\"Processing: \", num_events, \" / \", num_events)\n",
    "print(\"Training Events: \", len(Events_training))\n",
    "print(\"Validation Events: \", len(Events_validation))\n",
    "print(\"Testing Events: \", len(Events_testing))"
   ]
  },
  {
   "cell_type": "code",
   "execution_count": 8,
   "id": "0f2d36e7",
   "metadata": {},
   "outputs": [],
   "source": [
    "X_train, y_train = list(zip(*Events_training))\n",
    "X_val, y_val = list(zip(*Events_validation))\n",
    "X_test, y_test = list(zip(*Events_testing))\n",
    "\n",
    "data = (X_train, y_train, X_val, y_val, X_test, y_test)\n",
    "\n",
    "pickle.dump(data, open(\"data.pkl\", \"wb\"))"
   ]
  },
  {
   "cell_type": "code",
   "execution_count": 9,
   "id": "58266c34",
   "metadata": {},
   "outputs": [
    {
     "name": "stdout",
     "output_type": "stream",
     "text": [
      "X_train Indices Reference:\n",
      "\tNum Events:  7000\n",
      "\tNum Tensors:  3 (Jet, trk-jet, flat trk)\n",
      "\tNum Jets:  80\n",
      "\tNum Trks per Jet:  48\n",
      "\tNum Flat Trks:  1788\n",
      "\tNum Jet Feats:  6\n",
      "\tNum Trk Feats:  6\n",
      "\n",
      "y_train Indices Reference:\n",
      "\tNum Events:  7000\n",
      "\tNum Jets:  80\n"
     ]
    }
   ],
   "source": [
    "print(\"X_train Indices Reference:\")\n",
    "print(\"\\tNum Events: \", len(X_train))\n",
    "print(\"\\tNum Tensors: \", len(X_train[0]), \"(Jet, trk-jet, flat trk)\")\n",
    "print(\"\\tNum Jets: \", len(X_train[0][0]))\n",
    "print(\"\\tNum Trks per Jet: \", len(X_train[0][1][0]))\n",
    "print(\"\\tNum Flat Trks: \", len(X_train[0][2]))\n",
    "print(\"\\tNum Jet Feats: \", len(X_train[0][0][0]))\n",
    "print(\"\\tNum Trk Feats: \", len(X_train[0][1][0][0]))\n",
    "print()\n",
    "print(\"y_train Indices Reference:\")\n",
    "print(\"\\tNum Events: \", len(y_train))\n",
    "print(\"\\tNum Jets: \", len(y_train[0]))"
   ]
  },
  {
   "cell_type": "code",
   "execution_count": 10,
   "id": "9adee912",
   "metadata": {},
   "outputs": [],
   "source": [
    "# Shuffle\n",
    "# Split train, val, test\n",
    "# Calc train mean and std\n",
    "# Norm train, val, test\n",
    "# Split batches\n",
    "# Pad jets and tracks in batches"
   ]
  },
  {
   "cell_type": "code",
   "execution_count": 11,
   "id": "4ad4dfc1",
   "metadata": {},
   "outputs": [
    {
     "data": {
      "text/plain": [
       "'\\n# Shuffle and pad the tracks and jets\\nnum_events = len(selected_jets)\\n\\nfor event in range(1):\\n    num_jets = len(selected_jets[event])\\n    num_trks = ak.num(refined_tracks[event], axis=1)\\n    max_num_trks = ak.max(num_trks)\\n    print(max_num_trks)\\n    \\n    \\n    for jet in range(num_jets):\\n        p = np.random.permutation(len(refined_tracks[event][jet]))\\n        tmp = refined_tracks[event][jet][p]\\n        #print(tmp.show())\\n        tmp = ak.pad_none(tmp,max_num_trks,axis=0)\\n        tmp = ak.pad_none(tmp,7,axis=1)\\n        tmp = ak.fill_none(tmp, 0)\\n        print(jet)\\n        print(tmp.show())\\n\\n    p = np.random.permutation(len(selected_jets[event]))\\n    tmp = selected_jets[event][p]\\n    tmp = refined_tracks[event][p]\\n    \\n# Pad num tracks per jet on event basis\\nnum_events = len(selected_jets)\\nprint(num_events)\\nfor event in range(1):\\n    len_list = []\\n    num_jets = len(selected_jets[event])\\n    num_trks = ak.num(refined_tracks[event], axis=1)\\n    max_num_trks = ak.max(num_trks)\\n    print(max_num_trks)\\n    \\n    print(refined_tracks[event].show)\\n    pad = ak.pad_none(refined_tracks[event], max_num_trks, axis=1).to_list()\\n    print(pad[1][-1])\\n    pad2 = ak.fill_none(pad,0).to_list()\\n    #print(pad2)\\n    print(pad2[1][-1])\\n\\n    pad = ak.pad_none(pad, 7, axis=1)\\n    print(pad)\\n    print(pad[-1])\\n    tmp = ak.pad_none(pad,7,axis=1)\\n    print(pad)\\n    print(pad[-1])\\n'"
      ]
     },
     "execution_count": 11,
     "metadata": {},
     "output_type": "execute_result"
    }
   ],
   "source": [
    "\"\"\"\n",
    "# Shuffle and pad the tracks and jets\n",
    "num_events = len(selected_jets)\n",
    "\n",
    "for event in range(1):\n",
    "    num_jets = len(selected_jets[event])\n",
    "    num_trks = ak.num(refined_tracks[event], axis=1)\n",
    "    max_num_trks = ak.max(num_trks)\n",
    "    print(max_num_trks)\n",
    "    \n",
    "    \n",
    "    for jet in range(num_jets):\n",
    "        p = np.random.permutation(len(refined_tracks[event][jet]))\n",
    "        tmp = refined_tracks[event][jet][p]\n",
    "        #print(tmp.show())\n",
    "        tmp = ak.pad_none(tmp,max_num_trks,axis=0)\n",
    "        tmp = ak.pad_none(tmp,7,axis=1)\n",
    "        tmp = ak.fill_none(tmp, 0)\n",
    "        print(jet)\n",
    "        print(tmp.show())\n",
    "\n",
    "    p = np.random.permutation(len(selected_jets[event]))\n",
    "    tmp = selected_jets[event][p]\n",
    "    tmp = refined_tracks[event][p]\n",
    "    \n",
    "# Pad num tracks per jet on event basis\n",
    "num_events = len(selected_jets)\n",
    "print(num_events)\n",
    "for event in range(1):\n",
    "    len_list = []\n",
    "    num_jets = len(selected_jets[event])\n",
    "    num_trks = ak.num(refined_tracks[event], axis=1)\n",
    "    max_num_trks = ak.max(num_trks)\n",
    "    print(max_num_trks)\n",
    "    \n",
    "    print(refined_tracks[event].show)\n",
    "    pad = ak.pad_none(refined_tracks[event], max_num_trks, axis=1).to_list()\n",
    "    print(pad[1][-1])\n",
    "    pad2 = ak.fill_none(pad,0).to_list()\n",
    "    #print(pad2)\n",
    "    print(pad2[1][-1])\n",
    "\n",
    "    pad = ak.pad_none(pad, 7, axis=1)\n",
    "    print(pad)\n",
    "    print(pad[-1])\n",
    "    tmp = ak.pad_none(pad,7,axis=1)\n",
    "    print(pad)\n",
    "    print(pad[-1])\n",
    "\"\"\""
   ]
  }
 ],
 "metadata": {
  "kernelspec": {
   "display_name": "torch",
   "language": "python",
   "name": "torch"
  },
  "language_info": {
   "codemirror_mode": {
    "name": "ipython",
    "version": 3
   },
   "file_extension": ".py",
   "mimetype": "text/x-python",
   "name": "python",
   "nbconvert_exporter": "python",
   "pygments_lexer": "ipython3",
   "version": "3.10.12"
  }
 },
 "nbformat": 4,
 "nbformat_minor": 5
}
