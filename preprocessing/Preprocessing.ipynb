{
 "cells": [
  {
   "cell_type": "code",
   "execution_count": 1,
   "id": "240381a2",
   "metadata": {},
   "outputs": [],
   "source": [
    "import uproot\n",
    "import numpy as np\n",
    "import matplotlib.pyplot as plt\n",
    "import awkward as ak"
   ]
  },
  {
   "cell_type": "code",
   "execution_count": 4,
   "id": "0ae2af3f",
   "metadata": {},
   "outputs": [],
   "source": [
    "with uproot.open(\"input/dataset.root:fastjet\") as f:\n",
    "    jet_pt = f[\"jet_pt\"].array()\n",
    "    jet_eta = f[\"jet_eta\"].array()\n",
    "    jet_phi = f[\"jet_phi\"].array()\n",
    "    trk_pt = f[\"trk_pT\"].array()\n",
    "    trk_eta = f[\"trk_eta\"].array()\n",
    "    trk_phi = f[\"trk_phi\"].array()\n",
    "    trk_q = f[\"trk_q\"].array()\n",
    "    trk_d0 = f[\"trk_d0\"].array()\n",
    "    trk_z0 = f[\"trk_z0\"].array()\n",
    "    trk_label = f[\"trk_label\"].array()\n",
    "    jet_trk_IDX = f[\"jet_track_index\"].array()\n",
    "    jet_pufr_truth = f[\"jet_pufr_truth\"].array()"
   ]
  },
  {
   "cell_type": "code",
   "execution_count": 5,
   "id": "87f8054c",
   "metadata": {},
   "outputs": [
    {
     "name": "stdout",
     "output_type": "stream",
     "text": [
      "Processing:  1000  /  1000\n",
      "Num Events:  1000\n",
      "Num Jets in first event:  26\n",
      "Num Tracks in first event first jet:  96\n",
      "Num Tracks features:  7\n",
      "CPU times: user 22.9 s, sys: 144 ms, total: 23.1 s\n",
      "Wall time: 23 s\n"
     ]
    }
   ],
   "source": [
    "%%time\n",
    "num_events = len(jet_pt)\n",
    "trk_feats = []\n",
    "for event in range(num_events):\n",
    "    if event%5==0:\n",
    "        print(\"Processing: \", event, \" / \", num_events, end=\"\\r\")\n",
    "    idx_list = list(jet_trk_IDX[event])\n",
    "    idx_list.append(len(trk_pt[event]))\n",
    "    \n",
    "    jet_trk_feats = []\n",
    "    for i in range(len(idx_list)-1):\n",
    "        start_idx = idx_list[i]\n",
    "        end_idx = idx_list[i+1]-1 \n",
    "        trk_pt_tmp = np.array(trk_pt[event][start_idx:end_idx])\n",
    "        trk_eta_tmp = np.array(trk_eta[event][start_idx:end_idx])\n",
    "        trk_phi_tmp = np.array(trk_phi[event][start_idx:end_idx])\n",
    "        trk_q_tmp = np.array(trk_q[event][start_idx:end_idx])\n",
    "        trk_d0_tmp = np.array(trk_d0[event][start_idx:end_idx])\n",
    "        trk_z0_tmp = np.array(trk_z0[event][start_idx:end_idx])\n",
    "        trk_label_tmp = np.array(trk_label[event][start_idx:end_idx])\n",
    "\n",
    "        feats = [trk_pt_tmp, trk_eta_tmp, trk_phi_tmp, trk_q_tmp,\n",
    "                trk_d0_tmp, trk_z0_tmp, trk_label_tmp]\n",
    "        feats = np.stack(feats, axis=-1)\n",
    "        jet_trk_feats.append(feats)\n",
    "    \n",
    "    trk_feats.append(jet_trk_feats)\n",
    "    \n",
    "trk_feats = ak.Array(trk_feats)\n",
    "\n",
    "print(\"Processing: \", num_events, \" / \", num_events)\n",
    "print(\"Num Events: \", len(trk_feats))\n",
    "print(\"Num Jets in first event: \", len(trk_feats[0]))\n",
    "print(\"Num Tracks in first event first jet: \", len(trk_feats[0][0]))\n",
    "print(\"Num Tracks features: \", len(trk_feats[0][0][0]))"
   ]
  },
  {
   "cell_type": "code",
   "execution_count": 7,
   "id": "aafcd496",
   "metadata": {},
   "outputs": [
    {
     "name": "stdout",
     "output_type": "stream",
     "text": [
      "Num Events:  1000\n",
      "Num Jets in first event:  26\n",
      "Num Jet Features:  4\n",
      "CPU times: user 646 ms, sys: 3.95 ms, total: 650 ms\n",
      "Wall time: 647 ms\n"
     ]
    }
   ],
   "source": [
    "%%time\n",
    "num_events = len(jet_pt)\n",
    "jet_feats = []\n",
    "for event in range(num_events):\n",
    "    jet_pt_tmp = np.array(jet_pt[event])\n",
    "    jet_eta_tmp = np.array(jet_eta[event])\n",
    "    jet_phi_tmp = np.array(jet_phi[event])\n",
    "    jet_pufr_truth_tmp = np.array(jet_pufr_truth[event])\n",
    "\n",
    "\n",
    "    feats = [jet_pt_tmp, jet_eta_tmp, jet_phi_tmp, jet_pufr_truth_tmp]\n",
    "    feats = np.stack(feats, axis=-1)\n",
    "    \n",
    "    jet_feats.append(feats)\n",
    "    \n",
    "jet_feats = ak.Array(jet_feats)\n",
    "\n",
    "print(\"Num Events: \", len(jet_feats))\n",
    "print(\"Num Jets in first event: \", len(jet_feats[0]))\n",
    "print(\"Num Jet Features: \", len(jet_feats[0][0]))"
   ]
  },
  {
   "cell_type": "code",
   "execution_count": 9,
   "id": "5627070d",
   "metadata": {},
   "outputs": [],
   "source": [
    "jet_mask = abs(jet_feats[:,:,1])<4\n",
    "selected_jets = jet_feats[jet_mask]\n",
    "selected_tracks = trk_feats[jet_mask]"
   ]
  },
  {
   "cell_type": "code",
   "execution_count": 11,
   "id": "0f2d36e7",
   "metadata": {},
   "outputs": [],
   "source": [
    "trk_q_cut = selected_tracks[:,:,:,3]!=0          # Skip neutral particles\n",
    "trk_eta_cut = abs(selected_tracks[:,:,:,1])<4    # Skip forward region\n",
    "trk_pt_cut = selected_tracks[:,:,:,0]>0.4        # 400MeV Cut\n",
    "\n",
    "mask = trk_q_cut & trk_eta_cut & trk_pt_cut\n",
    "\n",
    "refined_tracks = selected_tracks[mask]"
   ]
  },
  {
   "cell_type": "code",
   "execution_count": 30,
   "id": "9adee912",
   "metadata": {},
   "outputs": [
    {
     "name": "stdout",
     "output_type": "stream",
     "text": [
      "1000 * var * var * var * float64\n",
      "1000 * var * var * float64\n"
     ]
    }
   ],
   "source": [
    "print(refined_tracks.type)\n",
    "print(selected_jets.type)"
   ]
  },
  {
   "cell_type": "code",
   "execution_count": null,
   "id": "58266c34",
   "metadata": {},
   "outputs": [],
   "source": []
  }
 ],
 "metadata": {
  "kernelspec": {
   "display_name": "torch",
   "language": "python",
   "name": "torch"
  },
  "language_info": {
   "codemirror_mode": {
    "name": "ipython",
    "version": 3
   },
   "file_extension": ".py",
   "mimetype": "text/x-python",
   "name": "python",
   "nbconvert_exporter": "python",
   "pygments_lexer": "ipython3",
   "version": "3.10.12"
  }
 },
 "nbformat": 4,
 "nbformat_minor": 5
}
