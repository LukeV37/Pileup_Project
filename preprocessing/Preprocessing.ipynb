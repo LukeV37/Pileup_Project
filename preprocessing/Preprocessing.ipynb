{
 "cells": [
  {
   "cell_type": "code",
   "execution_count": 1,
   "id": "240381a2",
   "metadata": {},
   "outputs": [],
   "source": [
    "import uproot\n",
    "import numpy as np\n",
    "import matplotlib.pyplot as plt\n",
    "import awkward as ak"
   ]
  },
  {
   "cell_type": "code",
   "execution_count": 2,
   "id": "0ae2af3f",
   "metadata": {},
   "outputs": [],
   "source": [
    "with uproot.open(\"input/dataset.root:fastjet\") as f:\n",
    "    jet_pt = f[\"jet_pt\"].array()\n",
    "    jet_eta = f[\"jet_eta\"].array()\n",
    "    jet_phi = f[\"jet_phi\"].array()\n",
    "    trk_pt = f[\"trk_pT\"].array()\n",
    "    trk_eta = f[\"trk_eta\"].array()\n",
    "    trk_phi = f[\"trk_phi\"].array()\n",
    "    trk_q = f[\"trk_q\"].array()\n",
    "    trk_d0 = f[\"trk_d0\"].array()\n",
    "    trk_z0 = f[\"trk_z0\"].array()\n",
    "    trk_label = f[\"trk_label\"].array()\n",
    "    jet_trk_IDX = f[\"jet_track_index\"].array()\n",
    "    jet_pufr_truth = f[\"jet_pufr_truth\"].array()"
   ]
  },
  {
   "cell_type": "code",
   "execution_count": 3,
   "id": "87f8054c",
   "metadata": {},
   "outputs": [
    {
     "name": "stdout",
     "output_type": "stream",
     "text": [
      "Processing:  1000  /  1000\n",
      "Num Events:  1000\n",
      "Num Jets in first event:  26\n",
      "Num Tracks in first event first jet:  96\n",
      "Num Tracks features:  7\n",
      "CPU times: user 22.9 s, sys: 163 ms, total: 23 s\n",
      "Wall time: 22.9 s\n"
     ]
    }
   ],
   "source": [
    "%%time\n",
    "num_events = len(jet_pt)\n",
    "trk_feats = []\n",
    "for event in range(num_events):\n",
    "    if event%5==0:\n",
    "        print(\"Processing: \", event, \" / \", num_events, end=\"\\r\")\n",
    "    idx_list = list(jet_trk_IDX[event])\n",
    "    idx_list.append(len(trk_pt[event]))\n",
    "    \n",
    "    jet_trk_feats = []\n",
    "    for i in range(len(idx_list)-1):\n",
    "        start_idx = idx_list[i]\n",
    "        end_idx = idx_list[i+1]-1 \n",
    "        trk_pt_tmp = np.array(trk_pt[event][start_idx:end_idx])\n",
    "        trk_eta_tmp = np.array(trk_eta[event][start_idx:end_idx])\n",
    "        trk_phi_tmp = np.array(trk_phi[event][start_idx:end_idx])\n",
    "        trk_q_tmp = np.array(trk_q[event][start_idx:end_idx])\n",
    "        trk_d0_tmp = np.array(trk_d0[event][start_idx:end_idx])\n",
    "        trk_z0_tmp = np.array(trk_z0[event][start_idx:end_idx])\n",
    "        trk_label_tmp = np.array(trk_label[event][start_idx:end_idx])\n",
    "\n",
    "        feats = [trk_pt_tmp, trk_eta_tmp, trk_phi_tmp, trk_q_tmp,\n",
    "                trk_d0_tmp, trk_z0_tmp, trk_label_tmp]\n",
    "        feats = np.stack(feats, axis=-1)\n",
    "        jet_trk_feats.append(feats)\n",
    "    \n",
    "    trk_feats.append(jet_trk_feats)\n",
    "    \n",
    "trk_feats = ak.Array(trk_feats)\n",
    "\n",
    "print(\"Processing: \", num_events, \" / \", num_events)\n",
    "print(\"Num Events: \", len(trk_feats))\n",
    "print(\"Num Jets in first event: \", len(trk_feats[0]))\n",
    "print(\"Num Tracks in first event first jet: \", len(trk_feats[0][0]))\n",
    "print(\"Num Tracks features: \", len(trk_feats[0][0][0]))"
   ]
  },
  {
   "cell_type": "code",
   "execution_count": 4,
   "id": "aafcd496",
   "metadata": {},
   "outputs": [
    {
     "name": "stdout",
     "output_type": "stream",
     "text": [
      "Num Events:  1000\n",
      "Num Jets in first event:  26\n",
      "Num Jet Features:  4\n",
      "CPU times: user 655 ms, sys: 6.87 ms, total: 662 ms\n",
      "Wall time: 653 ms\n"
     ]
    }
   ],
   "source": [
    "%%time\n",
    "num_events = len(jet_pt)\n",
    "jet_feats = []\n",
    "for event in range(num_events):\n",
    "    jet_pt_tmp = np.array(jet_pt[event])\n",
    "    jet_eta_tmp = np.array(jet_eta[event])\n",
    "    jet_phi_tmp = np.array(jet_phi[event])\n",
    "    jet_pufr_truth_tmp = np.array(jet_pufr_truth[event])\n",
    "\n",
    "    feats = [jet_pt_tmp, jet_eta_tmp, jet_phi_tmp, jet_pufr_truth_tmp]\n",
    "    feats = np.stack(feats, axis=-1)\n",
    "    \n",
    "    jet_feats.append(feats)\n",
    "    \n",
    "jet_feats = ak.Array(jet_feats)\n",
    "\n",
    "print(\"Num Events: \", len(jet_feats))\n",
    "print(\"Num Jets in first event: \", len(jet_feats[0]))\n",
    "print(\"Num Jet Features: \", len(jet_feats[0][0]))"
   ]
  },
  {
   "cell_type": "code",
   "execution_count": 43,
   "id": "5627070d",
   "metadata": {},
   "outputs": [
    {
     "name": "stdout",
     "output_type": "stream",
     "text": [
      "Jet Shape:\t 1000 * var * var * float64\n",
      "Trk_Jet  Shape:\t 1000 * var * var * var * float64\n"
     ]
    }
   ],
   "source": [
    "jet_mask = abs(jet_feats[:,:,1])<4\n",
    "selected_jets = jet_feats[jet_mask]\n",
    "selected_tracks = trk_feats[jet_mask]\n",
    "\n",
    "trk_q_cut = selected_tracks[:,:,:,3]!=0          # Skip neutral particles\n",
    "trk_eta_cut = abs(selected_tracks[:,:,:,1])<4    # Skip forward region\n",
    "trk_pt_cut = selected_tracks[:,:,:,0]>0.4        # 400MeV Cut\n",
    "\n",
    "mask = trk_q_cut & trk_eta_cut & trk_pt_cut\n",
    "\n",
    "refined_tracks = selected_tracks[mask]\n",
    "\n",
    "all_tracks = ak.flatten(refined_tracks, axis=2)\n",
    "\n",
    "print(\"Jet Shape:\\t\", selected_jets.type)\n",
    "print(\"Trk_Jet  Shape:\\t\", refined_tracks.type)\n",
    "#print(\"Trk_All Shape:\\t\", all_tracks.type)"
   ]
  },
  {
   "cell_type": "code",
   "execution_count": 34,
   "id": "4ad4dfc1",
   "metadata": {},
   "outputs": [
    {
     "data": {
      "text/plain": [
       "'\\nnum_events = len(selected_jets)\\n\\nfor event in range(1):\\n    num_jets = len(selected_jets[event])\\n    for jet in range(num_jets):\\n        p = np.random.permutation(len(refined_tracks[event][jet]))\\n        print(refined_tracks[event][jet][p])\\n\\n\\nfor event in range(num_events):\\n    p = np.random.permutation(len(selected_jets[event]))\\n    selected_jets[event] = selected_jets[event][p]\\n    refined_tracks[event] = refined_tracks[event][p]\\n'"
      ]
     },
     "execution_count": 34,
     "metadata": {},
     "output_type": "execute_result"
    }
   ],
   "source": [
    "# Shuffle the tracks and jets\n",
    "\"\"\"\n",
    "num_events = len(selected_jets)\n",
    "\n",
    "for event in range(1):\n",
    "    num_jets = len(selected_jets[event])\n",
    "    for jet in range(num_jets):\n",
    "        p = np.random.permutation(len(refined_tracks[event][jet]))\n",
    "        print(refined_tracks[event][jet][p])\n",
    "\n",
    "\n",
    "for event in range(num_events):\n",
    "    p = np.random.permutation(len(selected_jets[event]))\n",
    "    selected_jets[event] = selected_jets[event][p]\n",
    "    refined_tracks[event] = refined_tracks[event][p]\n",
    "\"\"\""
   ]
  },
  {
   "cell_type": "code",
   "execution_count": 46,
   "id": "c85fca2f",
   "metadata": {},
   "outputs": [
    {
     "name": "stdout",
     "output_type": "stream",
     "text": [
      "1000\n",
      "[[2.31, -1.2, 1.68, 1, 0.311, -58.3, ..., None, None, None, None, None], ...]\n",
      "[[1.2, 1.44, -1.23, 1, 0.0824, -83.9, ..., None, None, None, None, None], ...]\n",
      "[[0.991, 0.54, -0.973, 1, -0.0324, ..., None, None, None, None, None], ...]\n",
      "[[0.731, -0.76, 1.61, 1, 0.45, -58.6, ..., None, None, None, None, None], ...]\n",
      "[[0.778, 0.702, 0.215, -1, -0.492, ..., None, None, None, None, None], ...]\n",
      "[[2.08, 1.1, -2.64, -1, -0.252, -6.6, ..., None, None, None, None, None], ...]\n",
      "[[1.23, 2.52, -2.17, 1, -0.238, -7.99, ..., None, None, None, None, None], ...]\n",
      "[[1.2, -2.31, -2.92, -1, -0.354, -4.83, ..., None, None, None, None, None], ...]\n",
      "[[0.901, 0.223, -2.76, -1, -0.0186, ..., None, None, None, None, None], ...]\n",
      "[[0.903, -2.92, -0.255, -1, 4.09, -142, ..., None, None, None, None, None], ...]\n",
      "[[0.682, -3.77, 0.691, 1, -0.0144, ..., None, None, None, None, None], ...]\n",
      "[[1.18, -0.307, 1.76, -1, -0.0731, ..., None, None, None, None, None], ...]\n",
      "[[0.618, -0.429, 2.74, -1, -0.13, ..., None, None, None, None, None], ...]\n",
      "[[0.486, -1.04, 2.97, -1, -0.148, -105, ..., None, None, None, None, None], ...]\n",
      "[[0.445, -1.21, -0.45, 1, -0.878, 52.7, ..., None, None, None, None, None], ...]\n",
      "[[0.645, 0.82, 1.1, -1, 0.326, 43.5, ..., None, None, None, None, None], ...]\n",
      "[[0.662, -0.00777, -2.22, -1, -0.281, ..., None, None, None, None, None], ...]\n",
      "[[0.452, -0.246, -0.245, -1, -5.3, -37, ..., None, None, None, None, None], ...]\n",
      "[[0.45, -1.15, 1.04, -1, -0.317, 26.6, ..., None, None, None, None, None], ...]\n",
      "[[0.834, -2.59, 2.17, 1, -0.203, 27.9, ..., None, None, None, None, None], ...]\n",
      "[[0.784, 2.67, 2.15, 1, -0.17, 68.2, ..., None, None, None, None, None], ...]\n",
      "[[1.55, -2.88, -2.15, -1, 0.397, ..., None, None, None, None, None], ..., [...]]\n",
      "[[0.419, 2.03, -1.31, 1, 0.653, 9.75, ..., None, None, None, None, None], ...]\n",
      "[[0.464, 1.89, 0.186, -1, 0.241, -80.2, ..., None, None, None, None, None], ...]\n",
      "Max:  29\n",
      "Min:  10\n"
     ]
    }
   ],
   "source": [
    "# Pad num tracks per jet on event basis\n",
    "num_events = len(selected_jets)\n",
    "print(num_events)\n",
    "for event in range(1):\n",
    "    len_list = []\n",
    "    num_jets = len(selected_jets[event])\n",
    "    for jet in range(num_jets):\n",
    "        len_list.append(len(refined_tracks[event][jet]))  \n",
    "    max_num_trks = max(len_list)\n",
    "    \n",
    "    for jet in range(num_jets):\n",
    "        pad = ak.pad_none(refined_tracks[event][jet], max_num_trks, axis=1)\n",
    "        print(pad)\n",
    "    print(\"Max: \", max(len_list))\n",
    "    print(\"Min: \", min(len_list))\n",
    "    \n",
    "    "
   ]
  },
  {
   "cell_type": "code",
   "execution_count": 18,
   "id": "0f2d36e7",
   "metadata": {},
   "outputs": [],
   "source": [
    "# Split dataset into train, val, test\n",
    "num_events = len(selected_jets)\n",
    "train_split = int(0.7*num_events)  # 70% train\n",
    "test_split = int(0.75*num_events)  #  5% val\n",
    "                                   # 25% test\n",
    "\n",
    "num_jet_feats = len(selected_jets[0][0])-1\n",
    "num_trk_feats = len(refined_tracks[0][0])-1\n",
    "\n",
    "X_train_raw = data[0:int(0.7*num_events)]\n",
    "y_train = labels[0:int(0.7*num_events)].reshape(-1,1)\n",
    "X_val_raw = data[int(0.7*num_events):int(0.75*num_events)]\n",
    "y_val = labels[int(0.7*num_events):int(0.75*num_events)].reshape(-1,1)\n",
    "X_test_raw = data[int(0.75*num_events):]\n",
    "y_test = labels[int(0.75*num_events):].reshape(-1,1)"
   ]
  },
  {
   "cell_type": "code",
   "execution_count": null,
   "id": "9adee912",
   "metadata": {},
   "outputs": [],
   "source": [
    "# Shuffle\n",
    "# Split train, val, test\n",
    "# Calc train mean and std\n",
    "# Norm train, val, test\n",
    "# Split batches\n",
    "# Pad jets and tracks in batches"
   ]
  },
  {
   "cell_type": "code",
   "execution_count": null,
   "id": "58266c34",
   "metadata": {},
   "outputs": [],
   "source": []
  }
 ],
 "metadata": {
  "kernelspec": {
   "display_name": "torch",
   "language": "python",
   "name": "torch"
  },
  "language_info": {
   "codemirror_mode": {
    "name": "ipython",
    "version": 3
   },
   "file_extension": ".py",
   "mimetype": "text/x-python",
   "name": "python",
   "nbconvert_exporter": "python",
   "pygments_lexer": "ipython3",
   "version": "3.10.12"
  }
 },
 "nbformat": 4,
 "nbformat_minor": 5
}
