{
 "cells": [
  {
   "cell_type": "code",
   "execution_count": 1,
   "id": "240381a2",
   "metadata": {},
   "outputs": [],
   "source": [
    "import uproot\n",
    "import numpy as np\n",
    "import matplotlib.pyplot as plt\n",
    "import awkward as ak"
   ]
  },
  {
   "cell_type": "code",
   "execution_count": 2,
   "id": "0ae2af3f",
   "metadata": {},
   "outputs": [],
   "source": [
    "with uproot.open(\"../output/dataset.root:fastjet\") as f:\n",
    "    jet_pt = f[\"jet_pt\"].array()\n",
    "    jet_eta = f[\"jet_eta\"].array()\n",
    "    jet_phi = f[\"jet_phi\"].array()\n",
    "    trk_pt = f[\"trk_pT\"].array()\n",
    "    trk_eta = f[\"trk_eta\"].array()\n",
    "    trk_phi = f[\"trk_phi\"].array()\n",
    "    trk_q = f[\"trk_q\"].array()\n",
    "    trk_d0 = f[\"trk_d0\"].array()\n",
    "    trk_z0 = f[\"trk_z0\"].array()\n",
    "    trk_label = f[\"trk_label\"].array()\n",
    "    jet_trk_IDX = f[\"jet_track_index\"].array()\n",
    "    jet_pufr_truth = f[\"jet_pufr_truth\"].array()"
   ]
  },
  {
   "cell_type": "code",
   "execution_count": 3,
   "id": "87f8054c",
   "metadata": {},
   "outputs": [
    {
     "name": "stdout",
     "output_type": "stream",
     "text": [
      "Processing:  1000  /  1000\n",
      "Num Events:  1000\n",
      "Num Jets in first event:  26\n",
      "Num Tracks in first event first jet:  96\n",
      "Num Tracks features:  7\n",
      "CPU times: user 22.7 s, sys: 139 ms, total: 22.9 s\n",
      "Wall time: 22.8 s\n"
     ]
    }
   ],
   "source": [
    "%%time\n",
    "num_events = len(jet_pt)\n",
    "trk_feats = []\n",
    "for event in range(num_events):\n",
    "    if event%5==0:\n",
    "        print(\"Processing: \", event, \" / \", num_events, end=\"\\r\")\n",
    "    idx_list = list(jet_trk_IDX[event])\n",
    "    idx_list.append(len(trk_pt[event]))\n",
    "    \n",
    "    jet_trk_feats = []\n",
    "    for i in range(len(idx_list)-1):\n",
    "        start_idx = idx_list[i]\n",
    "        end_idx = idx_list[i+1]-1 \n",
    "        trk_pt_tmp = np.array(trk_pt[event][start_idx:end_idx])\n",
    "        trk_eta_tmp = np.array(trk_eta[event][start_idx:end_idx])\n",
    "        trk_phi_tmp = np.array(trk_phi[event][start_idx:end_idx])\n",
    "        trk_q_tmp = np.array(trk_q[event][start_idx:end_idx])\n",
    "        trk_d0_tmp = np.array(trk_d0[event][start_idx:end_idx])\n",
    "        trk_z0_tmp = np.array(trk_z0[event][start_idx:end_idx])\n",
    "        trk_label_tmp = np.array(trk_label[event][start_idx:end_idx])\n",
    "\n",
    "        feats = [trk_pt_tmp, trk_eta_tmp, trk_phi_tmp, trk_q_tmp,\n",
    "                trk_d0_tmp, trk_z0_tmp, trk_label_tmp]\n",
    "        feats = np.stack(feats, axis=-1)\n",
    "        jet_trk_feats.append(feats)\n",
    "    \n",
    "    trk_feats.append(jet_trk_feats)\n",
    "    \n",
    "trk_feats = ak.Array(trk_feats)\n",
    "\n",
    "print(\"Processing: \", num_events, \" / \", num_events)\n",
    "print(\"Num Events: \", len(trk_feats))\n",
    "print(\"Num Jets in first event: \", len(trk_feats[0]))\n",
    "print(\"Num Tracks in first event first jet: \", len(trk_feats[0][0]))\n",
    "print(\"Num Tracks features: \", len(trk_feats[0][0][0]))"
   ]
  },
  {
   "cell_type": "code",
   "execution_count": 6,
   "id": "aafcd496",
   "metadata": {},
   "outputs": [
    {
     "name": "stdout",
     "output_type": "stream",
     "text": [
      "[[[228, -1.18, 2.05, 0.0379], [172, ...], ..., [25.5, 1.83, 0.443, 1]], ...]\n",
      "Num Events:  1000\n",
      "Num Jets in first event:  26\n",
      "Num Jet Features:  4\n",
      "CPU times: user 664 ms, sys: 1.1 ms, total: 665 ms\n",
      "Wall time: 662 ms\n"
     ]
    }
   ],
   "source": [
    "%%time\n",
    "num_events = len(jet_pt)\n",
    "jet_feats = []\n",
    "for event in range(num_events):\n",
    "    jet_pt_tmp = np.array(jet_pt[event])\n",
    "    jet_eta_tmp = np.array(jet_eta[event])\n",
    "    jet_phi_tmp = np.array(jet_phi[event])\n",
    "    jet_pufr_truth_tmp = np.array(jet_pufr_truth[event])\n",
    "\n",
    "\n",
    "    feats = [jet_pt_tmp, jet_eta_tmp, jet_phi_tmp, jet_pufr_truth_tmp]\n",
    "    feats = np.stack(feats, axis=-1)\n",
    "    \n",
    "    jet_feats.append(feats)\n",
    "    \n",
    "jet_feats = ak.Array(jet_feats)\n",
    "\n",
    "print(jet_feats)\n",
    "print(\"Num Events: \", len(jet_feats))\n",
    "print(\"Num Jets in first event: \", len(jet_feats[0]))\n",
    "print(\"Num Jet Features: \", len(jet_feats[0][0]))"
   ]
  },
  {
   "cell_type": "code",
   "execution_count": 23,
   "id": "5627070d",
   "metadata": {},
   "outputs": [
    {
     "name": "stdout",
     "output_type": "stream",
     "text": [
      "[[-1.18, 1.31, 0.943, -1.1, 0.682, ..., -2.4, 3.03, -3.3, 1.94, 1.83], ...]\n",
      "[[True, True, True, True, True, True, ..., True, True, True, True, True], ...]\n"
     ]
    }
   ],
   "source": [
    "print(jet_feats[:,:,1])\n",
    "jet_mask = abs(jet_feats[:,:,1])<4\n",
    "print(jet_mask)"
   ]
  },
  {
   "cell_type": "code",
   "execution_count": 27,
   "id": "41e9d23b",
   "metadata": {},
   "outputs": [
    {
     "name": "stdout",
     "output_type": "stream",
     "text": [
      "[[[228, -1.18, 2.05, 0.0379], [172, ...], ..., [25.5, 1.83, 0.443, 1]], ...]\n",
      "[[[[0.4, -2.44, 2.12, 0, 1.13, -55.6, -1], ..., [31.9, ..., -1]], ...], ...]\n"
     ]
    }
   ],
   "source": [
    "selected_jets = jet_feats[jet_mask]\n",
    "print(selected_jets)\n",
    "selected_tracks = trk_feats[jet_mask]\n",
    "print(selected_tracks)"
   ]
  },
  {
   "cell_type": "code",
   "execution_count": 33,
   "id": "15289be6",
   "metadata": {},
   "outputs": [
    {
     "name": "stdout",
     "output_type": "stream",
     "text": [
      "-1.177243709564209 \t True \t -1.177243709564209\n",
      "1.313759446144104 \t True \t 1.313759446144104\n",
      "0.9430584907531738 \t True \t 0.9430584907531738\n",
      "-1.1001288890838623 \t True \t -1.1001288890838623\n",
      "0.6820801496505737 \t True \t 0.6820801496505737\n",
      "1.5558109283447266 \t True \t 1.5558109283447266\n",
      "2.3947083950042725 \t True \t 2.3947083950042725\n",
      "-2.0010461807250977 \t True \t -2.0010461807250977\n",
      "-0.2021445482969284 \t True \t -0.2021445482969284\n",
      "-3.224576473236084 \t True \t -3.224576473236084\n",
      "-3.4549338817596436 \t True \t -3.4549338817596436\n",
      "-4.213967800140381 \t False \t -0.21619264781475067\n",
      "-0.21619264781475067 \t True \t -0.7574970722198486\n",
      "-0.7574970722198486 \t True \t -1.2102900743484497\n",
      "-1.2102900743484497 \t True \t -1.4349234104156494\n",
      "-1.4349234104156494 \t True \t 1.132135272026062\n",
      "1.132135272026062 \t True \t -0.4125407338142395\n",
      "4.533372402191162 \t False \t -0.038745682686567307\n",
      "-0.4125407338142395 \t True \t -1.4536471366882324\n",
      "-0.038745682686567307 \t True \t -2.399385452270508\n",
      "-1.4536471366882324 \t True \t 3.030073881149292\n",
      "-2.399385452270508 \t True \t -3.300379753112793\n",
      "3.030073881149292 \t True \t 1.9397363662719727\n",
      "-3.300379753112793 \t True \t 1.832327127456665\n",
      "1.9397363662719727 \t True \t NONE\n",
      "1.832327127456665 \t True \t NONE\n"
     ]
    }
   ],
   "source": [
    "for event in range(1):\n",
    "    for jet in range(len(jet_feats[event])):\n",
    "        try:\n",
    "            print(jet_feats[event,jet,1],\"\\t\",abs(jet_feats[event,jet,1])<4,\"\\t\",selected_jets[event,jet,1])\n",
    "        except:\n",
    "            print(jet_feats[event,jet,1],\"\\t\",abs(jet_feats[event,jet,1])<4,\"\\t\",\"NONE\")"
   ]
  },
  {
   "cell_type": "code",
   "execution_count": 38,
   "id": "76c4f244",
   "metadata": {},
   "outputs": [
    {
     "name": "stdout",
     "output_type": "stream",
     "text": [
      "96 \t True \t 96\n",
      "55 \t True \t 55\n",
      "77 \t True \t 77\n",
      "57 \t True \t 57\n",
      "62 \t True \t 62\n",
      "84 \t True \t 84\n",
      "53 \t True \t 53\n",
      "75 \t True \t 75\n",
      "72 \t True \t 72\n",
      "67 \t True \t 67\n",
      "59 \t True \t 59\n",
      "61 \t False \t 68\n",
      "68 \t True \t 66\n",
      "66 \t True \t 63\n",
      "63 \t True \t 64\n",
      "64 \t True \t 52\n",
      "52 \t True \t 63\n",
      "53 \t False \t 66\n",
      "63 \t True \t 56\n",
      "66 \t True \t 50\n",
      "56 \t True \t 43\n",
      "50 \t True \t 51\n",
      "43 \t True \t 48\n",
      "51 \t True \t 58\n",
      "48 \t True \t NONE\n",
      "58 \t True \t NONE\n"
     ]
    }
   ],
   "source": [
    "for event in range(1):\n",
    "    for jet in range(len(jet_feats[event])):\n",
    "        try:\n",
    "            print(len(trk_feats[event,jet]),\"\\t\",abs(jet_feats[event,jet,1])<4,\"\\t\",len(selected_tracks[event,jet]))\n",
    "        except:\n",
    "            print(len(trk_feats[event,jet]),\"\\t\",abs(jet_feats[event,jet,1])<4,\"\\t\",\"NONE\")"
   ]
  },
  {
   "cell_type": "code",
   "execution_count": 46,
   "id": "0f2d36e7",
   "metadata": {},
   "outputs": [],
   "source": [
    "trk_q_cut = selected_tracks[:,:,:,3]!=0\n",
    "trk_eta_cut = abs(selected_tracks[:,:,:,1])<4\n",
    "trk_pt_cut = selected_tracks[:,:,:,0]>0.4\n",
    "\n",
    "mask = trk_q_cut & trk_eta_cut & trk_pt_cut\n",
    "\n",
    "refined_tracks = selected_tracks[mask]"
   ]
  },
  {
   "cell_type": "code",
   "execution_count": 50,
   "id": "9adee912",
   "metadata": {},
   "outputs": [
    {
     "name": "stdout",
     "output_type": "stream",
     "text": [
      "96 \t 29\n",
      "55 \t 13\n",
      "77 \t 24\n",
      "57 \t 14\n",
      "62 \t 16\n",
      "84 \t 21\n",
      "53 \t 14\n",
      "75 \t 15\n",
      "72 \t 25\n",
      "67 \t 18\n",
      "59 \t 12\n",
      "68 \t 12\n",
      "66 \t 18\n",
      "63 \t 11\n",
      "64 \t 15\n",
      "52 \t 14\n",
      "63 \t 13\n",
      "66 \t 13\n",
      "56 \t 17\n",
      "50 \t 21\n",
      "43 \t 15\n",
      "51 \t 10\n",
      "48 \t 17\n",
      "58 \t 12\n"
     ]
    }
   ],
   "source": [
    "for event in range(1):\n",
    "    for jet in range(len(selected_tracks[event])):\n",
    "        print(len(selected_tracks[event,jet]),\"\\t\",len(refined_tracks[event,jet]))"
   ]
  },
  {
   "cell_type": "code",
   "execution_count": null,
   "id": "f12ec80f",
   "metadata": {},
   "outputs": [],
   "source": []
  }
 ],
 "metadata": {
  "kernelspec": {
   "display_name": "torch",
   "language": "python",
   "name": "torch"
  },
  "language_info": {
   "codemirror_mode": {
    "name": "ipython",
    "version": 3
   },
   "file_extension": ".py",
   "mimetype": "text/x-python",
   "name": "python",
   "nbconvert_exporter": "python",
   "pygments_lexer": "ipython3",
   "version": "3.10.12"
  }
 },
 "nbformat": 4,
 "nbformat_minor": 5
}
